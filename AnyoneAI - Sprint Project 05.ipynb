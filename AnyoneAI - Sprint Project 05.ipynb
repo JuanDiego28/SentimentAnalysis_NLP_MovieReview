{
 "cells": [
  {
   "cell_type": "markdown",
   "metadata": {
    "id": "wycYqOwt_0KE"
   },
   "source": [
    "# Sentiment Analysis: Large Movie Review Dataset\n",
    "\n",
    "Hi again! You will be expected to finish this on your own, but you can use the available channels on Discord to ask questions and help others. Please read the entire notebook before starting, this will give you a better idea of what you need to accomplish.\n",
    "\n",
    "This project is related to NLP. As you may already know, the most important and hardest part of an NLP project is pre-processing, which is why we are going to focus on that.\n",
    "\n",
    "### Getting the data\n",
    "\n",
    "To access the data for this project, you only need to execute the code below. This will download three files:\n",
    "\n",
    "- `movies_review_train_aai.csv`: Training dataset you must use to train and find the best hyperparameters on your model.\n",
    "\n",
    "- `movies_review_test_aai.csv`: Test dataset to test your model.\n",
    "\n",
    "Basically a basic sentiment analysis problem, as in this case, consists of a classification problem, where the possible output labels are: `positive` and `negative`. Which indicates, if the review of a movie speaks positively or negatively. In our case it is a binary problem, but one could have many more \"feelings\" tagged and thus allow a more granular analysis.\n",
    "\n",
    "### These are the objectives of the project:\n",
    "\n",
    "* Read data that is not in a traditional format.\n",
    "* Put together a set of preprocessing functions that we can use later on any NLP or related problems.\n",
    "* Vectorize the data in order to apply a machine learning model to it: using BoW or TF-IDF.\n",
    "* BoW and TF-IDF are classic ways to vectorize text, but currently we have some more complex ways with better performance, for this we are going to train our own word embedding and use it as a vectorization source for our data.\n",
    "* Train a sentiment analysis model that allows us to detect positive and negative opinions in movie reviews."
   ]
  },
  {
   "attachments": {},
   "cell_type": "markdown",
   "metadata": {
    "id": "0oiYxBSs_0KH"
   },
   "source": [
    "---\n",
    "## 1. Get the data\n",
    "\n",
    "**Download the data by executing the code below:**\n",
    "\n",
    "`Notes:` Use the target column as `positive`, that way the positive value will be indicated with a value of `1` and negative with a value of `0`. In this case, a split train/test is not necessary because the original data is already separated."
   ]
  },
  {
   "cell_type": "code",
   "execution_count": 19,
   "metadata": {},
   "outputs": [],
   "source": [
    "from src import data_utils\n",
    "import os\n",
    "import sys\n",
    "import numpy as np\n",
    "from gensim.models import Word2Vec\n",
    "import nltk\n",
    "from imp import reload\n",
    "\n",
    "sys.path.append(os.path.dirname(os.getcwd()))\n",
    "\n",
    "from src import word2vec\n",
    "from src import evaluation\n",
    "from src import text_normalizer\n",
    "\n",
    "from sklearn.feature_extraction.text import TfidfVectorizer\n",
    "from sklearn.linear_model import LogisticRegression\n",
    "from sklearn.cluster import KMeans\n",
    "from nltk.tokenize import word_tokenize\n",
    "from nltk.tokenize.toktok import ToktokTokenizer\n",
    "\n",
    "from lightgbm import LGBMClassifier\n",
    "from sklearn.model_selection import RandomizedSearchCV\n",
    "from sklearn.model_selection import KFold\n",
    "import pickle\n",
    "\n",
    "\n",
    "\n",
    "np.random.seed(42)\n",
    "\n",
    "train, test = data_utils.get_datasets()\n",
    "\n"
   ]
  },
  {
   "cell_type": "code",
   "execution_count": 2,
   "metadata": {},
   "outputs": [],
   "source": [
    "# TODO Complete in this cell: Complete the function `split_data()` but not here in\n",
    "# the notebook, do it in the python module called `data_utils.py`.\n",
    "# Then make sure this code runs without errors.\n",
    "X_train, y_train, X_test, y_test = data_utils.split_data(train, test)"
   ]
  },
  {
   "cell_type": "code",
   "execution_count": 3,
   "metadata": {
    "id": "H4rI96sr_0KN"
   },
   "outputs": [],
   "source": [
    "stop_words = nltk.corpus.stopwords.words(\"english\")"
   ]
  },
  {
   "cell_type": "code",
   "execution_count": 4,
   "metadata": {
    "id": "rJtdCt9d_0KN"
   },
   "outputs": [
    {
     "name": "stderr",
     "output_type": "stream",
     "text": [
      "c:\\Users\\user\\Desktop\\AnyoneAI\\SPR05\\assignment\\src\\text_normalizer.py:39: MarkupResemblesLocatorWarning: The input looks more like a filename than markup. You may want to open this file and pass the filehandle into Beautiful Soup.\n",
      "  tagremover = BeautifulSoup(text,\"html.parser\")\n"
     ]
    }
   ],
   "source": [
    "# TODO: Complete all the functions with the `TODO` comment inside the\n",
    "# module `text_normalizer.py`. Then make sure this code runs without errors.\n",
    "# You can change the parameters for `normalize_corpus()` if you want.\n",
    "norm_train_reviews = text_normalizer.normalize_corpus(X_train, stopwords=stop_words,text_stemming=True)\n",
    "norm_test_reviews = text_normalizer.normalize_corpus(X_test, stopwords=stop_words,text_stemming=True)"
   ]
  },
  {
   "attachments": {},
   "cell_type": "markdown",
   "metadata": {
    "id": "uVKvNzkw_0KO"
   },
   "source": [
    "**(\\*) Functions will be checked using unit tests.**"
   ]
  },
  {
   "attachments": {},
   "cell_type": "markdown",
   "metadata": {
    "id": "M4SOofBj_0KM"
   },
   "source": [
    "---\n",
    "## 2. Normalize the data\n",
    "\n",
    "**Create the following functions but not here in the notebook, do it in the python script called `text_normalizer.py` and import them into the notebook (this way you can build your own NLP preprocessing library). In fact, the structure of the functions is already written, you must complete them with the code that you consider necessary.**\n",
    "\n",
    "- `remove_html_tags(text):` to remove all HTML tags that may be present in text.\n",
    "- `remove_accented_chars(text):` to remove accented characters from text\n",
    "- `expand_contractions(text):` to expand contractions of the type, \"don't\" to \"do not\". The contractions are already defined in the \"contractions.py\" file.\n",
    "- `lemmatize_text(text):` to lemmatize text.\n",
    "- `stem_text(text):` to apply stemming (NLTK's PorterStemmer) on text.\n",
    "- `remove_special_chars(text):` to remove special characters from text.\n",
    "- `remove_special_chars(text, remove_digits=True):` to remove numbers, note that it is the same function to remove special characters with the addition of an argument that enables or disables the removal of numbers.\n",
    "- `remove_stopwords(text, stopwords=stop_words):` to remove stopwords from text.\n",
    "- `remove_extra_new_lines(text):` to remove extra newlines from text.\n",
    "- `remove_extra_whitespace(text):` to remove extra whitespaces from text.\n",
    "\n",
    "If you want to add more features that would be great, for example you could start by removing emojis, using different stemming algorithms, etc. The more functions you have the better, remember that the texts are very varied and the preprocessing depends a lot on the source of our data.\n",
    "\n",
    "To apply each of the functions you created and pre-process the dataset, you must use the `normalize_corpus()` function of the `text_normalizer.py` script. In this method each of the functions you wrote is called, in fact you must enable or disable what you consider necessary (at this point we leave it to your free choice, for example, you can lemmatize or apply stemming or directly not apply any of the two and so on with the rest, but that is your choice), this function simply groups the previous ones for a more simplified use."
   ]
  },
  {
   "attachments": {},
   "cell_type": "markdown",
   "metadata": {
    "id": "ilBNdrN1_0KP"
   },
   "source": [
    "---\n",
    "## 3. Feature Engineering\n",
    "\n",
    "You already have the pre-processed data, now you must vectorize them, because remember that the models only understand numbers. At this stage choose whether you want to vectorize with BoW or with TF-IDF. Later we will train our own embedding but for now we go with a more \"classic\" vectorization.\n"
   ]
  },
  {
   "cell_type": "code",
   "execution_count": 5,
   "metadata": {
    "id": "aDAsFB-L_0KP"
   },
   "outputs": [],
   "source": [
    "# TODO Complete in this cell: Use BoW or TF-IDF to vectorize your data.\n",
    "# Remember to call the `fit()` method only on the train dataset!\n",
    "# Assign the features to the variables `train_features` and `test_features`.\n",
    "tfidf =  TfidfVectorizer()\n",
    "tfidf.fit(X_train)\n",
    "\n",
    "train_features = tfidf.transform(X_train)\n",
    "test_features = tfidf.transform(X_test)"
   ]
  },
  {
   "cell_type": "code",
   "execution_count": 6,
   "metadata": {},
   "outputs": [
    {
     "data": {
      "text/plain": [
       "<25000x74849 sparse matrix of type '<class 'numpy.float64'>'\n",
       "\twith 3445861 stored elements in Compressed Sparse Row format>"
      ]
     },
     "execution_count": 6,
     "metadata": {},
     "output_type": "execute_result"
    }
   ],
   "source": [
    "train_features"
   ]
  },
  {
   "attachments": {},
   "cell_type": "markdown",
   "metadata": {
    "id": "pVEP8DA4_0KQ"
   },
   "source": [
    "## 4. Modeling and Performance Evaluation\n",
    "\n",
    "As we said at the beginning, what interests us most in this part is pre-processing. However, we must train a model, so choose a model of your choice (obviously a classification model, given the problem we are facing) and apply everything we learned. Also if you want you can try several models, the more models you use and know better!\n",
    "\n",
    "**In addition to training the model we ask you to show:**\n",
    "\n",
    "- `Precision`\n",
    "- `Recall`\n",
    "- `F1-Score`\n",
    "- `Classification Report`\n",
    "- `Confusion Matrix`\n",
    "\n",
    "**To do this you must complete the `get_performance` function of the `evaluation.py` script.**\n",
    "\n",
    "**Also, you must complete the `plot_roc` function so that it can show:**\n",
    "\n",
    "- `ROC Curve`\n",
    "- `Obtain the ROC-AUC value (later we will do a small minimum performance check with this value)`"
   ]
  },
  {
   "cell_type": "code",
   "execution_count": 7,
   "metadata": {
    "id": "aCiCqub0_0KQ"
   },
   "outputs": [],
   "source": [
    "# TODO Complete in this cell: Create and train your own model.\n",
    "# Having the model trained, use it to make predictions on the test dataset.\n",
    "# Assign the predictions to the variable `model_predictions`, it will be used in the\n",
    "# following cell to evaluate the model performance.\n",
    "\n",
    "baseline_model = LogisticRegression()\n",
    "\n",
    "baseline_model.fit(train_features, y_train)\n",
    "model_predictions = baseline_model.predict(test_features)"
   ]
  },
  {
   "cell_type": "code",
   "execution_count": 8,
   "metadata": {
    "id": "Ykz1bOKm_0KR",
    "outputId": "b657b8df-33c8-43b5-d97f-18ead07c624d"
   },
   "outputs": [
    {
     "name": "stdout",
     "output_type": "stream",
     "text": [
      "Model Performance metrics:\n",
      "------------------------------\n",
      "Accuracy: 0.88316\n",
      "Precision: 0.8841125992461304\n",
      "Recall: 0.88192\n",
      "F1 Score: 0.8830149385237694\n",
      "\n",
      "Model Classification report:\n",
      "------------------------------\n",
      "              precision    recall  f1-score   support\n",
      "\n",
      "           0       0.88      0.88      0.88     12500\n",
      "           1       0.88      0.88      0.88     12500\n",
      "\n",
      "    accuracy                           0.88     25000\n",
      "   macro avg       0.88      0.88      0.88     25000\n",
      "weighted avg       0.88      0.88      0.88     25000\n",
      "\n",
      "\n",
      "Prediction Confusion Matrix:\n",
      "------------------------------\n",
      "       0      1\n",
      "0  11055   1445\n",
      "1   1476  11024\n"
     ]
    }
   ],
   "source": [
    "accuracy, precision, recall, f1_score = evaluation.get_performance(\n",
    "    model_predictions, y_test\n",
    ")"
   ]
  },
  {
   "cell_type": "code",
   "execution_count": 9,
   "metadata": {},
   "outputs": [
    {
     "data": {
      "image/png": "[encoded data removed]",
      "text/plain": [
       "<Figure size 1000x500 with 1 Axes>"
      ]
     },
     "metadata": {},
     "output_type": "display_data"
    },
    {
     "data": {
      "text/plain": [
       "0.9525368832000001"
      ]
     },
     "execution_count": 9,
     "metadata": {},
     "output_type": "execute_result"
    }
   ],
   "source": [
    "evaluation.plot_roc(baseline_model, y_test, test_features)"
   ]
  },
  {
   "cell_type": "markdown",
   "metadata": {},
   "source": [
    "---\n",
    "\n",
    "## 5. Classifying using K-Means\n",
    "\n",
    "Let use tfidf features computed in last section as vector inputs for kmeans."
   ]
  },
  {
   "cell_type": "code",
   "execution_count": 10,
   "metadata": {},
   "outputs": [
    {
     "name": "stdout",
     "output_type": "stream",
     "text": [
      "Converged after 28 iterations\n"
     ]
    }
   ],
   "source": [
    "# TODO Complete in this cell: Train the k-means clustering model using `n_clusters=2`.\n",
    "# Having the model trained, use it to make predictions on the test dataset.\n",
    "# Assign the predictions to the variable `kmeans_predictions`, it will be used in the\n",
    "# following cell to evaluate the model performance.\n",
    "\n",
    "kmeans = KMeans(n_clusters=2,n_init='auto')\n",
    "\n",
    "kmeans.fit(train_features,y_train)\n",
    "print(f\"Converged after {kmeans.n_iter_} iterations\")\n",
    "kmeans_predictions = kmeans.predict(test_features)"
   ]
  },
  {
   "cell_type": "code",
   "execution_count": 11,
   "metadata": {},
   "outputs": [
    {
     "name": "stdout",
     "output_type": "stream",
     "text": [
      "Model Performance metrics:\n",
      "------------------------------\n",
      "Accuracy: 0.51732\n",
      "Precision: 0.5153144231449388\n",
      "Recall: 0.5828\n",
      "F1 Score: 0.546983519165071\n",
      "\n",
      "Model Classification report:\n",
      "------------------------------\n",
      "              precision    recall  f1-score   support\n",
      "\n",
      "           0       0.52      0.45      0.48     12500\n",
      "           1       0.52      0.58      0.55     12500\n",
      "\n",
      "    accuracy                           0.52     25000\n",
      "   macro avg       0.52      0.52      0.52     25000\n",
      "weighted avg       0.52      0.52      0.52     25000\n",
      "\n",
      "\n",
      "Prediction Confusion Matrix:\n",
      "------------------------------\n",
      "      0     1\n",
      "0  5648  6852\n",
      "1  5215  7285\n"
     ]
    }
   ],
   "source": [
    "accuracy, precision, recall, f1_score = evaluation.get_performance(\n",
    "    [1 - el for el in kmeans_predictions], y_test\n",
    ")"
   ]
  },
  {
   "cell_type": "markdown",
   "metadata": {
    "id": "c4pZ2FDV_0KS"
   },
   "source": [
    "---\n",
    "## 6. Feature Engineering with Custom Word Embedding\n",
    "\n",
    "### Tokenize reviews and train your own Word Embedding\n",
    "\n",
    "You are going to have to train your own word embedding, for this we are going to use the __gensim__ library. The only requirement we ask of you is that the $vector\\_size=100$.\n",
    "\n",
    "[Here](https://radimrehurek.com/gensim/models/word2vec.html) you can read Gensim's Word2Vec documentation so you can train your own embedding, using the review data as a corpus.\n",
    "\n",
    "As a previous step to training your word embedding you must tokenize the corpus, this may take a bit depending on the size of the dataset and the tokenizer we use, if you want you can try the NLTK tokenizer called `ToktokTokenizer`, which turns out to be a little faster (we hope that this recommendation does not bias your work, try and use the ones you want)"
   ]
  },
  {
   "cell_type": "code",
   "execution_count": 12,
   "metadata": {
    "id": "Nhx6o1pJ_0KS",
    "outputId": "96b56add-1a85-4516-922d-0d4ee0984540"
   },
   "outputs": [],
   "source": [
    "# TODO Complete in this cell: Tokenize your text corpus and use them to train\n",
    "# a Word2Vec model.\n",
    "\n",
    "# TODO: Create and store here the tokenized train and test data.\n",
    "tokenized_train = [word_tokenize(w) for w in norm_train_reviews]\n",
    "tokenized_test = [word_tokenize(w) for w in norm_test_reviews]\n",
    "\n",
    "# TODO: Train your Word2Vec model and assign it to `model_w2v`.\n",
    "# The output model vector size (w2v_vector_size) is set by default to 100,\n",
    "# you can change it if you want.\n",
    "w2v_vector_size = 100\n",
    "model_w2v = Word2Vec(tokenized_train,vector_size = w2v_vector_size, workers = 4)\n",
    "# model = Word2Vec(playlists, vector_size=32, window=20, negative=50, min_count=1, workers=4)\n"
   ]
  },
  {
   "cell_type": "code",
   "execution_count": 13,
   "metadata": {},
   "outputs": [
    {
     "name": "stdout",
     "output_type": "stream",
     "text": [
      "w2vec information:\n",
      "------------------------------\n",
      "Corpus count: 25000\n",
      "Trained with: 3183539 words\n",
      "Vocabulary found: 21090\n",
      "------------------------------\n",
      "Example word: thi\n",
      "[ 0.4751342  -0.5597113  -0.30308545  0.23464996 -1.6168141  -0.59590477\n",
      " -0.5493221  -0.11615625 -0.27749237 -0.63960886  1.5675758   1.0036815\n",
      "  0.4480522   0.22423108 -0.05149024  1.1759307  -0.29731336 -0.53216404\n",
      " -2.4293065  -1.0383314  -0.60107106  1.3636601   0.5582212   0.06615235\n",
      " -0.17927401  0.5323783   1.3116232   0.40636522 -0.9731     -0.75362355\n",
      " -0.74031    -0.7367521   1.402579   -0.4721896  -1.0292822   0.30752018\n",
      "  0.53088677 -0.23547761 -1.8136356  -0.16520464  0.1798803   1.2979343\n",
      " -1.7404996   0.5737271  -0.34774888  0.94111633  0.27976143  0.51792794\n",
      "  0.5594661  -1.2896361  -1.02679    -0.02685693 -1.8312036  -1.155445\n",
      "  0.9391435   0.00945192  0.70782    -0.69260573 -0.9452573   0.76525265\n",
      "  0.3681118   0.8602131   1.3993074  -0.45397788 -1.1998698   0.26217443\n",
      " -1.4192253   0.5853611  -1.4397634   1.0772519   1.1392761   1.9596292\n",
      " -0.8275373  -0.23701721  1.0207016   0.58202416  0.77256185 -1.4586364\n",
      " -0.81661016 -0.76367015 -0.45265007  0.42857692  0.08352723  1.367625\n",
      " -1.2040921  -0.8532221   0.9956643  -0.34058246 -0.6575778  -0.01575534\n",
      " -0.93831456  0.8569607   0.40527073  0.8266646   0.49327192 -0.16268142\n",
      " -2.1324852   0.2453652   0.15748048 -1.7492384 ]\n"
     ]
    }
   ],
   "source": [
    "word2vec.w2v_information(model = model_w2v)"
   ]
  },
  {
   "attachments": {},
   "cell_type": "markdown",
   "metadata": {
    "id": "1yybEN7P_0KS"
   },
   "source": [
    "### Generate averaged word vector features\n",
    "\n",
    "Once the embedding has been trained, we must use it. Remember that embedding will convert each word you pass to it into a vector of a given dimension (in our case $vector\\_size=100$). So in order to obtain a vector for each review, you must average the vectors of all the words that are part of the same review.\n",
    "\n",
    "The function must have the following form:\n",
    "* `vectorizer(corpus, model, num_features=100)`\n",
    "\n",
    "\n",
    "Where:\n",
    "* `corpus:` corresponds to the entire dataset, in this way we obtain an average vector for each review, with a single call to the function.\n",
    "* `model:` is your trained model.\n",
    "* `num_features:` the dimension of the output vector of your embedding (remember that in our case we set this value to 100).\n",
    "\n",
    "To do this you must complete the `vectorize` function of the `word2vec.py` module."
   ]
  },
  {
   "cell_type": "code",
   "execution_count": 14,
   "metadata": {
    "id": "DN7oCLhd_0KT"
   },
   "outputs": [],
   "source": [
    "# TODO: Make sure you have completed the `vectorizer()` function from\n",
    "# word2vec.py module.\n",
    "# You don't need to change this code, just make it run without errors.\n",
    "w2v_train_features = word2vec.vectorizer(\n",
    "    corpus=tokenized_train, model=model_w2v, num_features=w2v_vector_size\n",
    ")\n",
    "w2v_test_features = word2vec.vectorizer(\n",
    "    corpus=tokenized_test, model=model_w2v, num_features=w2v_vector_size\n",
    ")\n"
   ]
  },
  {
   "cell_type": "markdown",
   "metadata": {
    "id": "Ekf7XrPd_0KU"
   },
   "source": [
    "### Modeling\n",
    "\n",
    "Finally train a new model, it can be the same one you used before and compare the results you got using BoW/TF-IDF and Word2Vec.\n",
    "\n",
    "In addition to training the model we ask you to show:\n",
    "\n",
    "* `Accuracy`\n",
    "* `Recall`\n",
    "* `F1-Score`\n",
    "* `Classification Report`\n",
    "* `Confusion Matrix`\n",
    "* `ROC Curve`\n",
    "* `Obtain the ROC-AUC value (later we will do a small minimum performance check with this value)`"
   ]
  },
  {
   "cell_type": "markdown",
   "metadata": {},
   "source": [
    "### Logistic Reggresion model"
   ]
  },
  {
   "cell_type": "code",
   "execution_count": 15,
   "metadata": {
    "id": "mxYRc-_8_0KU"
   },
   "outputs": [
    {
     "name": "stdout",
     "output_type": "stream",
     "text": [
      "Model Performance metrics:\n",
      "------------------------------\n",
      "Accuracy: 0.84876\n",
      "Precision: 0.8479527496208795\n",
      "Recall: 0.84992\n",
      "F1 Score: 0.8489352351272524\n",
      "\n",
      "Model Classification report:\n",
      "------------------------------\n",
      "              precision    recall  f1-score   support\n",
      "\n",
      "           0       0.85      0.85      0.85     12500\n",
      "           1       0.85      0.85      0.85     12500\n",
      "\n",
      "    accuracy                           0.85     25000\n",
      "   macro avg       0.85      0.85      0.85     25000\n",
      "weighted avg       0.85      0.85      0.85     25000\n",
      "\n",
      "\n",
      "Prediction Confusion Matrix:\n",
      "------------------------------\n",
      "       0      1\n",
      "0  10595   1905\n",
      "1   1876  10624\n"
     ]
    },
    {
     "name": "stderr",
     "output_type": "stream",
     "text": [
      "c:\\Users\\user\\Desktop\\AnyoneAI\\SPR05\\sprint05venv\\lib\\site-packages\\sklearn\\linear_model\\_logistic.py:458: ConvergenceWarning: lbfgs failed to converge (status=1):\n",
      "STOP: TOTAL NO. of ITERATIONS REACHED LIMIT.\n",
      "\n",
      "Increase the number of iterations (max_iter) or scale the data as shown in:\n",
      "    https://scikit-learn.org/stable/modules/preprocessing.html\n",
      "Please also refer to the documentation for alternative solver options:\n",
      "    https://scikit-learn.org/stable/modules/linear_model.html#logistic-regression\n",
      "  n_iter_i = _check_optimize_result(\n"
     ]
    },
    {
     "data": {
      "text/plain": [
       "(0.84876, 0.8479527496208795, 0.84992, 0.8489352351272524)"
      ]
     },
     "execution_count": 15,
     "metadata": {},
     "output_type": "execute_result"
    }
   ],
   "source": [
    "# TODO Complete in this cell: Train and choose the best model for the task.\n",
    "# Assign this model to the `best_model` variable.\n",
    "logreg_model = LogisticRegression()\n",
    "\n",
    "logreg_model.fit(w2v_train_features, y_train)\n",
    "model_predictions = logreg_model.predict(w2v_test_features)\n",
    "evaluation.get_performance(model_predictions,y_test)"
   ]
  },
  {
   "cell_type": "markdown",
   "metadata": {},
   "source": [
    "## SVC \n",
    "#### support vector classifier\n",
    "\n",
    "\n"
   ]
  },
  {
   "cell_type": "code",
   "execution_count": 16,
   "metadata": {},
   "outputs": [
    {
     "name": "stdout",
     "output_type": "stream",
     "text": [
      "Model Performance metrics:\n",
      "------------------------------\n",
      "Accuracy: 0.85384\n",
      "Precision: 0.8503088864248376\n",
      "Recall: 0.85888\n",
      "F1 Score: 0.8545729523203055\n",
      "\n",
      "Model Classification report:\n",
      "------------------------------\n",
      "              precision    recall  f1-score   support\n",
      "\n",
      "           0       0.86      0.85      0.85     12500\n",
      "           1       0.85      0.86      0.85     12500\n",
      "\n",
      "    accuracy                           0.85     25000\n",
      "   macro avg       0.85      0.85      0.85     25000\n",
      "weighted avg       0.85      0.85      0.85     25000\n",
      "\n",
      "\n",
      "Prediction Confusion Matrix:\n",
      "------------------------------\n",
      "       0      1\n",
      "0  10610   1890\n",
      "1   1764  10736\n"
     ]
    },
    {
     "data": {
      "text/plain": [
       "(0.85384, 0.8503088864248376, 0.85888, 0.8545729523203055)"
      ]
     },
     "execution_count": 16,
     "metadata": {},
     "output_type": "execute_result"
    }
   ],
   "source": [
    "from sklearn.svm import SVC\n",
    "\n",
    "svc_model = SVC() \n",
    "svc_model.fit(w2v_train_features, y_train)\n",
    "svc_predictions =  svc_model.predict(w2v_test_features)\n",
    "evaluation.get_performance(svc_predictions,y_test)\n"
   ]
  },
  {
   "cell_type": "markdown",
   "metadata": {},
   "source": [
    "## Xgboost"
   ]
  },
  {
   "cell_type": "code",
   "execution_count": 17,
   "metadata": {},
   "outputs": [
    {
     "name": "stdout",
     "output_type": "stream",
     "text": [
      "Model Performance metrics:\n",
      "------------------------------\n",
      "Accuracy: 0.83348\n",
      "Precision: 0.8331867956198545\n",
      "Recall: 0.83392\n",
      "F1 Score: 0.8335532365759066\n",
      "\n",
      "Model Classification report:\n",
      "------------------------------\n",
      "              precision    recall  f1-score   support\n",
      "\n",
      "           0       0.83      0.83      0.83     12500\n",
      "           1       0.83      0.83      0.83     12500\n",
      "\n",
      "    accuracy                           0.83     25000\n",
      "   macro avg       0.83      0.83      0.83     25000\n",
      "weighted avg       0.83      0.83      0.83     25000\n",
      "\n",
      "\n",
      "Prediction Confusion Matrix:\n",
      "------------------------------\n",
      "       0      1\n",
      "0  10413   2087\n",
      "1   2076  10424\n"
     ]
    },
    {
     "data": {
      "text/plain": [
       "(0.83348, 0.8331867956198545, 0.83392, 0.8335532365759066)"
      ]
     },
     "execution_count": 17,
     "metadata": {},
     "output_type": "execute_result"
    }
   ],
   "source": [
    "from xgboost import XGBClassifier\n",
    "\n",
    "xgbm_model = XGBClassifier()\n",
    "xgbm_model.fit(w2v_train_features, y_train)\n",
    "xgbm_predictions =  xgbm_model.predict(w2v_test_features)\n",
    "evaluation.get_performance(xgbm_predictions,y_test)\n"
   ]
  },
  {
   "cell_type": "markdown",
   "metadata": {},
   "source": [
    "## lightgbm tuned"
   ]
  },
  {
   "cell_type": "code",
   "execution_count": 133,
   "metadata": {},
   "outputs": [
    {
     "name": "stdout",
     "output_type": "stream",
     "text": [
      "[LightGBM] [Info] Number of positive: 12500, number of negative: 12500\n",
      "[LightGBM] [Info] Auto-choosing col-wise multi-threading, the overhead of testing was 0.007432 seconds.\n",
      "You can set `force_col_wise=true` to remove the overhead.\n",
      "[LightGBM] [Info] Total Bins 25500\n",
      "[LightGBM] [Info] Number of data points in the train set: 25000, number of used features: 100\n",
      "[LightGBM] [Info] [binary:BoostFromScore]: pavg=0.500000 -> initscore=0.000000\n"
     ]
    }
   ],
   "source": [
    "params = { \n",
    "    'learning_rate': [0.01, 0.1, 0.05],\n",
    "    'boosting_type': ['dart'],\n",
    "    'objective': ['binary'],\n",
    "    'metric':['auc','binary_logloss'],\n",
    "    'num_leaves':[31,50,70,90],\n",
    "    'max_depth':[-1,5,7,9,12],\n",
    "    'n_estimators': [500,700]\n",
    "    }\n",
    "cv = KFold(n_splits=5, shuffle=True, random_state=42)\n",
    "randomsearch_lgbm = RandomizedSearchCV(\n",
    "    estimator= LGBMClassifier(), \n",
    "    param_distributions= params,\n",
    "    n_jobs=-1, random_state = 42,\n",
    "    cv = cv,n_iter=30)\n",
    "randomsearch_lgbm.fit(w2v_train_features, y_train)\n",
    "\n",
    "with open('lgbm_model_rscv.pkl','wb') as file:\n",
    "    pickle.dump(randomsearch_lgbm.best_estimator_,file)"
   ]
  },
  {
   "cell_type": "code",
   "execution_count": 21,
   "metadata": {},
   "outputs": [
    {
     "name": "stdout",
     "output_type": "stream",
     "text": [
      "Model Performance metrics:\n",
      "------------------------------\n",
      "Accuracy: 0.77\n",
      "Precision: 0.7963125548726954\n",
      "Recall: 0.7256\n",
      "F1 Score: 0.7593135203013814\n",
      "\n",
      "Model Classification report:\n",
      "------------------------------\n",
      "              precision    recall  f1-score   support\n",
      "\n",
      "           0       0.75      0.81      0.78     12500\n",
      "           1       0.80      0.73      0.76     12500\n",
      "\n",
      "    accuracy                           0.77     25000\n",
      "   macro avg       0.77      0.77      0.77     25000\n",
      "weighted avg       0.77      0.77      0.77     25000\n",
      "\n",
      "\n",
      "Prediction Confusion Matrix:\n",
      "------------------------------\n",
      "       0     1\n",
      "0  10180  2320\n",
      "1   3430  9070\n"
     ]
    },
    {
     "data": {
      "text/plain": [
       "(0.77, 0.7963125548726954, 0.7256, 0.7593135203013814)"
      ]
     },
     "execution_count": 21,
     "metadata": {},
     "output_type": "execute_result"
    }
   ],
   "source": [
    "with open('lgbm_model_rscv.pkl','rb') as file:\n",
    "    randomsearch_lgbm = pickle.load(file)\n",
    "\n",
    "lgbm_predictions =  randomsearch_lgbm.predict(w2v_test_features)\n",
    "evaluation.get_performance(lgbm_predictions,y_test)"
   ]
  },
  {
   "cell_type": "code",
   "execution_count": 22,
   "metadata": {
    "id": "pes1qmmJ_0KU",
    "outputId": "ca1bc607-507f-4196-d44c-f2843e8e7b01",
    "scrolled": true
   },
   "outputs": [
    {
     "data": {
      "image/png": "[encoded data removed]",
      "text/plain": [
       "<Figure size 1000x500 with 1 Axes>"
      ]
     },
     "metadata": {},
     "output_type": "display_data"
    },
    {
     "data": {
      "text/plain": [
       "0.8569219584"
      ]
     },
     "execution_count": 22,
     "metadata": {},
     "output_type": "execute_result"
    }
   ],
   "source": [
    "# TODO: Use the `plot_roc()` function from `evaluation.py` module to show\n",
    "# the model ROC curve.\n",
    "evaluation.plot_roc(randomsearch_lgbm,y_test,w2v_test_features)\n"
   ]
  },
  {
   "attachments": {},
   "cell_type": "markdown",
   "metadata": {
    "id": "8KZdYlRs_0KV"
   },
   "source": [
    "## 7. Predict data\n",
    "\n",
    "- Take your best model\n",
    "- Take `test data` (i.e. the dataset after doing the preprocessing and feature engineering part)\n",
    "- Run the data through your model and save the predictions on the `positive` column in the `test` DataFrame (yeah that we've loaded at the very beginning of this notebook).\n",
    "- You will have to use that model to fill values in the positive column using the model predictions\n",
    "- Save the modified version of the DataFrame with the name (`dataset/movies_review_predict_aai.csv`) and don't forget to submit it alongside the rest of this sprint project code.\n",
    "\n",
    "Let's say your best model is called `logistic_word2vec`, then your code should be exactly this:\n",
    "\n",
    "```python\n",
    "    from src import config\n",
    "    from pathlib import Path\n",
    "    DATASET_TEST_PREDICT = str(Path(config.DATASET_ROOT_PATH) / \"movies_review_predict_aai.csv\")\n",
    "    test_preds = logistic_word2vec.predict_proba(w2v_test_features)[:, 1]\n",
    "    test[\"positive\"] = test_preds\n",
    "    test.to_csv(DATASET_TEST_PREDICT, index=False)\n",
    "```"
   ]
  },
  {
   "cell_type": "code",
   "execution_count": null,
   "metadata": {},
   "outputs": [],
   "source": [
    "# TODO\n"
   ]
  },
  {
   "cell_type": "markdown",
   "metadata": {
    "id": "gkopeTCj_0KV"
   },
   "source": [
    "---\n",
    "### OPTIONAL:\n",
    "\n",
    "In our case, we train a word embedding from scratch, which is very good at an educational level, but when applying it to a real problem, we need a lot of data (which is not the case with our problem). Therefore, we invite you to investigate and use one of the `pre-trained Word2Vec models`.\n",
    "\n",
    "If you look for the `Pretrained models` section in this [link](https://radimrehurek.com/gensim/models/word2vec.html), you will find information about the models that Gensim owns."
   ]
  },
  {
   "cell_type": "code",
   "execution_count": null,
   "metadata": {},
   "outputs": [],
   "source": []
  }
 ],
 "metadata": {
  "anaconda-cloud": {},
  "celltoolbar": "Tags",
  "colab": {
   "collapsed_sections": [],
   "name": "Sentiment_Analysis_NLP_Solved.ipynb",
   "provenance": []
  },
  "kernelspec": {
   "display_name": "Python 3 (ipykernel)",
   "language": "python",
   "name": "python3"
  },
  "language_info": {
   "codemirror_mode": {
    "name": "ipython",
    "version": 3
   },
   "file_extension": ".py",
   "mimetype": "text/x-python",
   "name": "python",
   "nbconvert_exporter": "python",
   "pygments_lexer": "ipython3",
   "version": "3.10.11"
  }
 },
 "nbformat": 4,
 "nbformat_minor": 1
}
